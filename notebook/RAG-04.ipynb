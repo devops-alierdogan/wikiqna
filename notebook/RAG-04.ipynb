{
 "cells": [
  {
   "cell_type": "code",
   "execution_count": 2,
   "metadata": {},
   "outputs": [],
   "source": [
    "#########################################\n",
    "############# SEARCH & LLM  #############\n",
    "#########################################\n",
    "\n",
    "import openai \n",
    "import os\n",
    "from dotenv import load_dotenv\n",
    "# import numpy as np\n",
    "load_dotenv()\n",
    "#\n",
    "openai.api_type = \"azure\"\n",
    "openai.api_key = os.getenv(\"OPENAI_API_KEY\")\n",
    "openai.api_base = os.getenv(\"OPENAI_API_BASE\")\n",
    "openai.api_version = os.getenv(\"OPENAI_API_VERSION\")\n",
    "\n",
    "from pymilvus import connections, Collection "
   ]
  },
  {
   "cell_type": "code",
   "execution_count": 3,
   "metadata": {},
   "outputs": [],
   "source": [
    "COLLECTION_NAME = os.getenv(\"COLLECTION_NAME\")\n",
    "EMBEDDING_MODEL = os.getenv(\"OPENAI_ENGINE\")\n",
    "MILVUS_HOST = \"23.236.50.189\"\n",
    "MILVUS_PORT = \"19530\"\n",
    "DIMENSION = 1536 \n",
    "connections.connect(host=MILVUS_HOST, port=MILVUS_PORT) \n",
    " \n",
    "collection = Collection(name=COLLECTION_NAME)"
   ]
  },
  {
   "cell_type": "code",
   "execution_count": 4,
   "metadata": {},
   "outputs": [],
   "source": [
    "\n",
    "# Vektörleştirme modelini\n",
    "from openai import AzureOpenAI\n",
    " \n",
    "client = AzureOpenAI( \n",
    "    api_version=openai.api_version , \n",
    "    api_key= openai.api_key,\n",
    "    azure_endpoint=openai.api_base,\n",
    ")\n",
    "\n",
    "def generate_embeddings(texts):\n",
    "    return [client.embeddings.create(input=[text], model=\"text-embedding-ada-002\").data[0].embedding for text in texts]\n"
   ]
  },
  {
   "cell_type": "code",
   "execution_count": 5,
   "metadata": {},
   "outputs": [],
   "source": [
    "QUERY_PARAM = {\n",
    "    \"metric_type\": \"L2\",\n",
    "    \"params\": {\"ef\": 64},   \n",
    "}\n",
    "def search_milvus(queries):\n",
    "    top_k = 5\n",
    "    if type(queries) != list:\n",
    "        queries = [queries]\n",
    "    documents = collection.search(generate_embeddings(queries), \n",
    "                            anns_field='embedding', param=QUERY_PARAM, limit=top_k,\n",
    "                            output_fields=['page_content', 'source'])\n",
    "    context=\"\"\n",
    "    for values in documents:\n",
    "        for doc in values:\n",
    "            context += doc.entity._row_data[\"page_content\"] + \" link: \" + doc.entity._row_data[\"source\"] + \" \"\n",
    "    \n",
    "        #collection.release()\n",
    "    print(f\"context:\"{context}) \n",
    "    return context\n",
    "  "
   ]
  },
  {
   "cell_type": "code",
   "execution_count": 6,
   "metadata": {},
   "outputs": [],
   "source": [
    "# AzureOpenAI LLM ile cevap üretme fonksiyonu\n",
    "def generate_answer(question, context): \n",
    "    prompt = f\"\"\"Given this text extracts:\n",
    "    -----\n",
    "    {context}\n",
    "    -----\n",
    "    Please answer with to the following question:\n",
    "    Question: {question}\n",
    "    Answer: \"\"\"\n",
    "    response = client.chat.completions.create(\n",
    "        model=\"gpt-35-turbo\",\n",
    "        messages=[{\"role\": \"user\", \"content\": prompt  }]\n",
    "      \n",
    "    )\n",
    "\n",
    "    #response.model_dump_json(indent=2)\n",
    "    return response"
   ]
  },
  {
   "cell_type": "code",
   "execution_count": 9,
   "metadata": {},
   "outputs": [
    {
     "name": "stdout",
     "output_type": "stream",
     "text": [
      "SonarQube emekli işlemleri. Custom Measures olarak adlandırılan gruplama ve hesap etiketlerinde paketin ilgili metriği Pasif olarak işaretlenmeli. (İlgili adres: https://sonar.softtech/custom_measures?id=ACIXXXXX) Bu işlem ön yüzden yapılabileceği gibi aşağıdaki adımları izleyerek API'ler aracılığı ile de yapılabilir. Mevcut Custom Measures metriclerini silmek için → Post api/custom_measures/delete Paketin emekli olduğuna dair ilgili metriği eklemek için → Post api/custom_measures/create Emekli link: https://wiki.softtech.com.tr/display/SDO/Get+Retired DevOps Künyesi Tüm işlerimizde her zaman göz önünde bulundurmamız gerekenler; İç müşterilerimizin memnuniyetini artırmalıyız . Yaptıklarımızla fark yaratmalıyız . Takım oyununu ve birlikteliği hep canlı tutmalıyız. Yaptığımız işlerdeki kaliteyi artırmalıyız . Sistematik çalışarak işlerimizi daha iyi yönetmeliyiz. Verimliliğimizi artırmalı ve kendi gelişimlerimizi de ihmal etmemeliyiz. The team Sinan Çayır About us Softtech DevOps Bilgi Paylaşım Ortamı Blog stream 3 excerpts Recently updated link: https://wiki.softtech.com.tr/pages/viewpage.action?pageId=1409027 SonarQube, Softtech bünyesinde geliştirilen bütün projelerin kod kalitelerini ölçmek üzere kullanılan bir araçtır. ( https://sonar.softtech / https://sonar.rally.softtech/ )image2019-9-9_8-5-43.png link: https://wiki.softtech.com.tr/display/SDO/SonarQube SonarQube aracına CI sürecinin sonunda eklenen paketler varsayılan olarak \"Public\" izinli şekilde ekleniyor. Yeni eklenen paketlerin takibini; https://sonar.softtech/api/projects/search?visibility=public API üzerinden takip edebiliyoruz. Web üzerinden de yanıt dönebilen servisin detaylarını inceleyip bulunan ACI kodu ile bir ekibe adreslenmesi gerekiyorsa ilgili işlemin yapılması, karne kısıtı sebebiyle görünmemesi gerekiyorsa https://sonar.softtech/project_roles?id=ACIXXXXX adresine gidip link: https://wiki.softtech.com.tr/display/SDO/Check+Public \n",
      "Post api/custom_measures/delete adresine giderek Custom Measures metriclerini silmelisiniz.\n"
     ]
    }
   ],
   "source": [
    "# Kullanıcı girdisini alın ve işleyin\n",
    "question = \"Custom Measures metriclerini silmek için ne yapmalıyım ?\"\n",
    "retrieved_documents = search_milvus(question)    \n",
    "answer = generate_answer(question, retrieved_documents)\n",
    "print(answer.choices[0].message.content)"
   ]
  }
 ],
 "metadata": {
  "kernelspec": {
   "display_name": "Python 3 (ipykernel)",
   "language": "python",
   "name": "python3"
  }
 },
 "nbformat": 4,
 "nbformat_minor": 4
}
